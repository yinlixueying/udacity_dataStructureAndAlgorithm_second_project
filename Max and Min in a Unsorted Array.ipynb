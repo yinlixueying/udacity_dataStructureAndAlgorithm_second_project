{
 "cells": [
  {
   "cell_type": "code",
   "execution_count": 16,
   "metadata": {},
   "outputs": [],
   "source": [
    "\"\"\"\n",
    "In this problem, we will look for smallest and largest integer from a list of unsorted integers. The code should run in O(n) time. Do not use Python's inbuilt functions to find min and max.\n",
    "\n",
    "Bonus Challenge: Is it possible to find the max and min in a single traversal?\n",
    "\"\"\"\n",
    "def get_min_max(ints):\n",
    "    \"\"\"\n",
    "    Return a tuple(min, max) out of list of unsorted integers.\n",
    "\n",
    "    Args:\n",
    "       ints(list): list of integers containing one or more integers\n",
    "    \"\"\"\n",
    "    if(ints == None or ints == []):\n",
    "        return None\n",
    "    if(len(ints)==1):\n",
    "        return (ints[0], ints[0])\n",
    "    \n",
    "    min = ints[0]\n",
    "    max = ints[0]\n",
    "    for i in range(1, len(ints)-1):\n",
    "        if ints[i] < min:\n",
    "            min = ints[i]\n",
    "        elif ints[i] > max:\n",
    "            max = ints[i]\n",
    "    return(min, max)"
   ]
  },
  {
   "cell_type": "code",
   "execution_count": 17,
   "metadata": {},
   "outputs": [
    {
     "name": "stdout",
     "output_type": "stream",
     "text": [
      "Pass\n",
      "Pass\n",
      "Pass\n",
      "Pass\n"
     ]
    }
   ],
   "source": [
    "\n",
    "import random\n",
    "\n",
    "\"\"\"\n",
    "Example Test Case of null list\n",
    "\"\"\"\n",
    "l = None\n",
    "\n",
    "print (\"Pass\" if (None == get_min_max(l)) else \"Fail\")\n",
    "\n",
    "# Example Test Case of One Interger\n",
    "l = [1] \n",
    "\n",
    "print (\"Pass\" if ((1,1) == get_min_max(l)) else \"Fail\")\n",
    "\n",
    "## Example Test Case of Ten Integers\n",
    "l = [i for i in range(0, 10)]  # a list containing 0 - 9\n",
    "random.shuffle(l)\n",
    "\n",
    "print (\"Pass\" if ((0, 9) == get_min_max(l)) else \"Fail\")\n",
    "\n",
    "\"\"\"\n",
    "Example Test Case of 100,000 Integers\n",
    "\"\"\"\n",
    "l = [i for i in range(0, 100000)]  # a list containing 0 - 99999\n",
    "random.shuffle(l)\n",
    "\n",
    "print (\"Pass\" if ((0, 99999) == get_min_max(l)) else \"Fail\")"
   ]
  },
  {
   "cell_type": "code",
   "execution_count": 3,
   "metadata": {},
   "outputs": [
    {
     "name": "stdout",
     "output_type": "stream",
     "text": [
      "Pass\n"
     ]
    }
   ],
   "source": [
    "\"\"\"\n",
    "Pass\n",
    "Pass\n",
    "Pass\n",
    "Pass\n",
    "\"\"\""
   ]
  },
  {
   "cell_type": "code",
   "execution_count": 5,
   "metadata": {},
   "outputs": [
    {
     "name": "stdout",
     "output_type": "stream",
     "text": [
      "Pass\n"
     ]
    }
   ],
   "source": []
  },
  {
   "cell_type": "code",
   "execution_count": 6,
   "metadata": {},
   "outputs": [
    {
     "name": "stdout",
     "output_type": "stream",
     "text": [
      "Pass\n"
     ]
    }
   ],
   "source": []
  },
  {
   "cell_type": "code",
   "execution_count": null,
   "metadata": {},
   "outputs": [],
   "source": []
  }
 ],
 "metadata": {
  "kernelspec": {
   "display_name": "Python 3",
   "language": "python",
   "name": "python3"
  },
  "language_info": {
   "codemirror_mode": {
    "name": "ipython",
    "version": 3
   },
   "file_extension": ".py",
   "mimetype": "text/x-python",
   "name": "python",
   "nbconvert_exporter": "python",
   "pygments_lexer": "ipython3",
   "version": "3.7.3"
  }
 },
 "nbformat": 4,
 "nbformat_minor": 2
}

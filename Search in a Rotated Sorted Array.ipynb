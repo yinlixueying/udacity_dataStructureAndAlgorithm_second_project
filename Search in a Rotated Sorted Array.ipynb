{
 "cells": [
  {
   "cell_type": "code",
   "execution_count": 3,
   "metadata": {},
   "outputs": [],
   "source": [
    "\"\"\"\n",
    "You are given a sorted array which is rotated at some random pivot point.\n",
    "\n",
    "Example: [0,1,2,4,5,6,7] might become [4,5,6,7,0,1,2]\n",
    "\n",
    "You are given a target value to search. If found in the array return its index, otherwise return -1.\n",
    "\n",
    "You can assume there are no duplicates in the array and your algorithm's runtime complexity must be in the order of O(log n).\n",
    "\n",
    "Example:\n",
    "\n",
    "Input: nums = [4,5,6,7,0,1,2], target = 0, Output: 4\n",
    "\"\"\"\n",
    "def rotated_array_search(input_list, number):\n",
    "    \"\"\"\n",
    "    Find the index by searching in a rotated sorted array\n",
    "\n",
    "    Args:\n",
    "       input_list(array), number(int): Input array to search and the target\n",
    "    Returns:\n",
    "       int: Index or -1\n",
    "    \"\"\"\n",
    "    if(len(input_list)==0):\n",
    "        return -1;\n",
    "    if(len(input_list)==1 and number == input_list[0]):\n",
    "        return 0\n",
    "    else:\n",
    "        return -1\n",
    "    start = 0\n",
    "    end = len(input_list) - 1\n",
    "    ans = -1\n",
    "    while(start <= end):\n",
    "        median = (start + end) // 2\n",
    "        if(input_list[median] == number):\n",
    "            return median\n",
    "        if(input_list[0] <= input_list[median]):\n",
    "            if input_list[0] <= number < input_list[median]:\n",
    "                end = median - 1;\n",
    "            else:\n",
    "                start = median + 1;\n",
    "        else:\n",
    "            if(number >= input_list[median] or number <= input_list[end]):\n",
    "                end = median - 1;\n",
    "            else:\n",
    "                start = median + 1\n",
    "            \n",
    "    return -1\n",
    "\n",
    "def linear_search(input_list, number):\n",
    "    for index, element in enumerate(input_list):\n",
    "        if element == number:\n",
    "            return index\n",
    "    return -1"
   ]
  },
  {
   "cell_type": "code",
   "execution_count": 5,
   "metadata": {},
   "outputs": [
    {
     "name": "stdout",
     "output_type": "stream",
     "text": [
      "Pass\n",
      "Pass\n",
      "Pass\n",
      "Pass\n",
      "Pass\n",
      "Pass\n",
      "Pass\n"
     ]
    }
   ],
   "source": [
    "def test_function(test_case):\n",
    "    input_list = test_case[0]\n",
    "    number = test_case[1]\n",
    "    if linear_search(input_list, number) == rotated_array_search(input_list, number):\n",
    "        print(\"Pass\")\n",
    "    else:\n",
    "        print(\"Fail\")\n",
    "\n",
    "test_function([[], 6])\n",
    "test_function([[6], 6])\n",
    "test_function([[6, 7, 8, 9, 10, 1, 2, 3, 4], 6])\n",
    "test_function([[6, 7, 8, 9, 10, 1, 2, 3, 4], 1])\n",
    "test_function([[6, 7, 8, 1, 2, 3, 4], 8])\n",
    "test_function([[6, 7, 8, 1, 2, 3, 4], 1])\n",
    "test_function([[6, 7, 8, 1, 2, 3, 4], 10])"
   ]
  },
  {
   "cell_type": "code",
   "execution_count": null,
   "metadata": {},
   "outputs": [],
   "source": []
  }
 ],
 "metadata": {
  "kernelspec": {
   "display_name": "Python 3",
   "language": "python",
   "name": "python3"
  },
  "language_info": {
   "codemirror_mode": {
    "name": "ipython",
    "version": 3
   },
   "file_extension": ".py",
   "mimetype": "text/x-python",
   "name": "python",
   "nbconvert_exporter": "python",
   "pygments_lexer": "ipython3",
   "version": "3.7.3"
  }
 },
 "nbformat": 4,
 "nbformat_minor": 2
}

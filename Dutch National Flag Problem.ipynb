{
 "cells": [
  {
   "cell_type": "code",
   "execution_count": 10,
   "metadata": {},
   "outputs": [],
   "source": [
    "\"\"\"\n",
    "Given an input array consisting on only 0, 1, and 2, sort the array in a single traversal. You're not allowed to use any sorting function that Python provides.\n",
    "\n",
    "Note: O(n) does not necessarily mean single-traversal. For e.g. if you traverse the array twice, that would still be an O(n) solution but it will not count as single traversal.\n",
    "\n",
    "Here is some boilerplate code and test cases to start with:\n",
    "\"\"\"\n",
    "def sort_012(input_list):\n",
    "    \"\"\"\n",
    "    Given an input array consisting on only 0, 1, and 2, sort the array in a single traversal.\n",
    "\n",
    "    Args:\n",
    "       input_list(list): List to be sorted\n",
    "    \"\"\"\n",
    "    if input_list == None:\n",
    "        return None\n",
    "    if(input_list == []):\n",
    "        return []\n",
    "    start = 0\n",
    "    pointer = 0\n",
    "    end = len(input_list) - 1\n",
    "    midNum = 1\n",
    "    while(pointer <= end):\n",
    "        if(input_list[pointer] < midNum):\n",
    "            temp = input_list[start]\n",
    "            input_list[start] = input_list[pointer]\n",
    "            input_list[pointer] = temp\n",
    "            start += 1\n",
    "            pointer += 1\n",
    "        elif(input_list[pointer] > midNum):\n",
    "            temp = input_list[pointer]\n",
    "            input_list[pointer] = input_list[end]\n",
    "            input_list[end] = temp\n",
    "            end -= 1\n",
    "        else:\n",
    "            pointer += 1\n",
    "    return input_list"
   ]
  },
  {
   "cell_type": "code",
   "execution_count": 12,
   "metadata": {},
   "outputs": [
    {
     "name": "stdout",
     "output_type": "stream",
     "text": [
      "None\n",
      "Pass\n",
      "[]\n",
      "Pass\n",
      "[0, 0, 0, 1, 1, 1, 2, 2, 2, 2, 2]\n",
      "Pass\n",
      "[0, 0, 0, 0, 0, 0, 0, 0, 0, 0, 0, 1, 1, 1, 1, 1, 1, 2, 2, 2, 2, 2, 2, 2, 2, 2]\n",
      "Pass\n",
      "[0, 0, 0, 0, 0, 0, 1, 1, 1, 1, 1, 1, 2, 2, 2, 2, 2, 2, 2]\n",
      "Pass\n"
     ]
    }
   ],
   "source": [
    "def test_function(test_case):\n",
    "    sorted_array = sort_012(test_case)\n",
    "    if sorted_array == None:\n",
    "        print(sorted_array)\n",
    "        print(\"Pass\")\n",
    "        return\n",
    "    if sorted_array == []:\n",
    "        print(sorted_array)\n",
    "        print(\"Pass\")\n",
    "        return\n",
    "    print(sorted_array)\n",
    "    if sorted_array == sorted(test_case):\n",
    "        print(\"Pass\")\n",
    "    else:\n",
    "        print(\"Fail\")\n",
    "\n",
    "test_function(None)       \n",
    "test_function([])\n",
    "test_function([0, 0, 2, 2, 2, 1, 1, 1, 2, 0, 2])\n",
    "test_function([2, 1, 2, 0, 0, 2, 1, 0, 1, 0, 0, 2, 2, 2, 1, 2, 0, 0, 0, 2, 1, 0, 2, 0, 0, 1])\n",
    "test_function([0, 0, 0, 0, 0, 0, 1, 1, 1, 1, 1, 1, 2, 2, 2, 2, 2, 2, 2])"
   ]
  },
  {
   "cell_type": "code",
   "execution_count": null,
   "metadata": {},
   "outputs": [],
   "source": [
    "\"\"\"\n",
    "None\n",
    "Pass\n",
    "[]\n",
    "Pass\n",
    "[0, 0, 0, 1, 1, 1, 2, 2, 2, 2, 2]\n",
    "Pass\n",
    "[0, 0, 0, 0, 0, 0, 0, 0, 0, 0, 0, 1, 1, 1, 1, 1, 1, 2, 2, 2, 2, 2, 2, 2, 2, 2]\n",
    "Pass\n",
    "[0, 0, 0, 0, 0, 0, 1, 1, 1, 1, 1, 1, 2, 2, 2, 2, 2, 2, 2]\n",
    "Pass\n",
    "\"\"\""
   ]
  }
 ],
 "metadata": {
  "kernelspec": {
   "display_name": "Python 3",
   "language": "python",
   "name": "python3"
  },
  "language_info": {
   "codemirror_mode": {
    "name": "ipython",
    "version": 3
   },
   "file_extension": ".py",
   "mimetype": "text/x-python",
   "name": "python",
   "nbconvert_exporter": "python",
   "pygments_lexer": "ipython3",
   "version": "3.7.3"
  }
 },
 "nbformat": 4,
 "nbformat_minor": 2
}
